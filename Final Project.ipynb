{
    "nbformat_minor": 1, 
    "cells": [
        {
            "source": "# #1 A description of the problem and a discussion of the background.", 
            "cell_type": "markdown", 
            "metadata": {}
        }, 
        {
            "execution_count": null, 
            "cell_type": "code", 
            "metadata": {}, 
            "outputs": [], 
            "source": ""
        }, 
        {
            "execution_count": null, 
            "cell_type": "code", 
            "metadata": {}, 
            "outputs": [], 
            "source": ""
        }, 
        {
            "source": "# Introduction ", 
            "cell_type": "markdown", 
            "metadata": {
                "collapsed": true
            }
        }, 
        {
            "source": "London is the most populous city in the United Kingdom. It is diverse and is the financial capital of the country. It is multicultural and a destination for many tourists. It offers the opportunity to startups and companies because its openness. It has attracted many different players into the market. With an airport like Heathrow and old history, London is the place to open a world class restaurant. \n\n\n\n\n\nThis also means that the market is highly competitive. As it is highly developed city so cost of doing business is also one of the highest. Thus, any new restaurant startup or expansion needs to be analyzed. \n\nThe next analyzing will lead to better allocate resouses and choosing the best place to open the place", 
            "cell_type": "markdown", 
            "metadata": {}
        }, 
        {
            "source": "# Business problem\n", 
            "cell_type": "markdown", 
            "metadata": {}
        }, 
        {
            "source": "The City of London is famous for its culture and diversity. You can select and eat from international cuisines. Sushi, Rice and grilled beef and even more. You can eat from the east and west in the same time and place.\n\nBiryani restaurants have become so popular in the UK. Opening a Biryani restaurant is a great opportunity, and the road to enjoy long-term success.", 
            "cell_type": "markdown", 
            "metadata": {}
        }, 
        {
            "source": "# Find a suitable location", 
            "cell_type": "markdown", 
            "metadata": {}
        }, 
        {
            "source": "The City of London is famous for its culture and diversity. You can select and eat from international cuisines. Sushi, Rice and grilled beef and even more. You can eat from the east and west in the same time and place.\n\nBiryani restaurants have become so popular in the UK. Opening a Biryani restaurant is a great opportunity, and the road to enjoy long-term success.", 
            "cell_type": "markdown", 
            "metadata": {}
        }, 
        {
            "source": "# Target Audience", 
            "cell_type": "markdown", 
            "metadata": {}
        }, 
        {
            "source": "Our mission is to choose a place with people around with reasonable priced rents.\n\nWe will open the restaurant in populous part in London. The objective od this anaylsis to select the best place to startup a restaurant.", 
            "cell_type": "markdown", 
            "metadata": {}
        }, 
        {
            "execution_count": null, 
            "cell_type": "code", 
            "metadata": {}, 
            "outputs": [], 
            "source": ""
        }, 
        {
            "execution_count": null, 
            "cell_type": "code", 
            "metadata": {}, 
            "outputs": [], 
            "source": ""
        }, 
        {
            "execution_count": null, 
            "cell_type": "code", 
            "metadata": {}, 
            "outputs": [], 
            "source": ""
        }, 
        {
            "source": "# #2 A description of the data and how it will be used to solve the problem.", 
            "cell_type": "markdown", 
            "metadata": {}
        }, 
        {
            "source": "I will get the data from public source and specially Foursquare.  I will choose the data carefully with some points in mind. The location will in London with a large number of people around them, either workers or residents. The location will in place where we can get tourists traffic too. ", 
            "cell_type": "markdown", 
            "metadata": {}
        }, 
        {
            "source": "It is a stucrture database with rows and colums ", 
            "cell_type": "markdown", 
            "metadata": {}
        }, 
        {
            "execution_count": null, 
            "cell_type": "code", 
            "metadata": {}, 
            "outputs": [], 
            "source": ""
        }
    ], 
    "metadata": {
        "kernelspec": {
            "display_name": "Python 3.6", 
            "name": "python3", 
            "language": "python"
        }, 
        "language_info": {
            "mimetype": "text/x-python", 
            "nbconvert_exporter": "python", 
            "version": "3.6.8", 
            "name": "python", 
            "file_extension": ".py", 
            "pygments_lexer": "ipython3", 
            "codemirror_mode": {
                "version": 3, 
                "name": "ipython"
            }
        }
    }, 
    "nbformat": 4
}