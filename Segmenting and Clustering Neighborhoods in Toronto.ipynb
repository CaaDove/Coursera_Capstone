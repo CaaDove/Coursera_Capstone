{
    "nbformat_minor": 2, 
    "cells": [
        {
            "source": "<a href=\"https://www.bigdatauniversity.com\"><img src=\"https://ibm.box.com/shared/static/cw2c7r3o20w9zn8gkecaeyjhgw3xdgbj.png\" width=\"400\" align=\"center\"></a>\n", 
            "cell_type": "markdown", 
            "metadata": {}
        }, 
        {
            "source": "### Applied Data Science Capstone\n\n\n### Peer-graded Assignment\n\n\n### Segmenting and Clustering Neighborhoods in Toronto\n\n\n\n", 
            "cell_type": "markdown", 
            "metadata": {}
        }, 
        {
            "source": "### Name: Amro Aido\n\n### Thank you for eval my notebook", 
            "cell_type": "markdown", 
            "metadata": {}
        }, 
        {
            "source": "# PART 1", 
            "cell_type": "markdown", 
            "metadata": {}
        }, 
        {
            "source": "!conda install -c anaconda beautifulsoup4 \n\n\n", 
            "cell_type": "code", 
            "metadata": {}, 
            "outputs": [
                {
                    "output_type": "stream", 
                    "name": "stdout", 
                    "text": "Solving environment: done\n\n## Package Plan ##\n\n  environment location: /opt/conda/envs/DSX-Python35\n\n  added / updated specs: \n    - beautifulsoup4\n\n\nThe following packages will be downloaded:\n\n    package                    |            build\n    ---------------------------|-----------------\n    certifi-2018.8.24          |           py35_1         139 KB  anaconda\n    openssl-1.0.2s             |       h7b6447c_0         3.1 MB  anaconda\n    beautifulsoup4-4.6.3       |           py35_0         140 KB  anaconda\n    ca-certificates-2019.5.15  |                0         133 KB  anaconda\n    ------------------------------------------------------------\n                                           Total:         3.5 MB\n\nThe following packages will be UPDATED:\n\n    beautifulsoup4:  4.6.0-py35h442a8c9_1 --> 4.6.3-py35_0      anaconda\n    ca-certificates: 2019.1.23-0          --> 2019.5.15-0       anaconda\n    certifi:         2018.8.24-py35_1     --> 2018.8.24-py35_1  anaconda\n    openssl:         1.0.2s-h7b6447c_0    --> 1.0.2s-h7b6447c_0 anaconda\n\n\nDownloading and Extracting Packages\ncertifi-2018.8.24    | 139 KB    | ##################################### | 100% \nopenssl-1.0.2s       | 3.1 MB    | ##################################### | 100% \nbeautifulsoup4-4.6.3 | 140 KB    | ##################################### | 100% \nca-certificates-2019 | 133 KB    | ##################################### | 100% \nPreparing transaction: done\nVerifying transaction: done\nExecuting transaction: done\n"
                }
            ], 
            "execution_count": 2
        }, 
        {
            "source": "from bs4 import BeautifulSoup\nimport pandas as pd\nfrom urllib.request import (urlopen, urlparse, urlunparse, urlretrieve)", 
            "cell_type": "code", 
            "metadata": {}, 
            "outputs": [], 
            "execution_count": 1
        }, 
        {
            "source": "### the link:  https://en.wikipedia.org/wiki/List_of_postal_codes_of_Canada:_M", 
            "cell_type": "markdown", 
            "metadata": {}
        }, 
        {
            "source": "soup = BeautifulSoup(urlopen(\"https://en.wikipedia.org/wiki/List_of_postal_codes_of_Canada:_M\"), \"lxml\")\nmath = soup.find('table').find_all(\"th\")\ntr_coll = soup.find('table').find_all(\"tr\")\n\n", 
            "cell_type": "code", 
            "metadata": {}, 
            "outputs": [], 
            "execution_count": 2
        }, 
        {
            "source": "# For example\n\nstr = tr_coll[0].text\nstr.split(\"\\n\")", 
            "cell_type": "code", 
            "metadata": {}, 
            "outputs": [
                {
                    "output_type": "execute_result", 
                    "data": {
                        "text/plain": "['', 'Postcode', 'Borough', 'Neighbourhood', '']"
                    }, 
                    "execution_count": 3, 
                    "metadata": {}
                }
            ], 
            "execution_count": 3
        }, 
        {
            "source": "Col_1_Postcodee = []\nCol_2_Boroughe = []\nCol_3_Neighbourhood = []\n\nstrList = []\nstrQ =\"\"\nfor a in range(len(tr_coll)):\n    if a == 0:\n        continue\n    strQ = tr_coll[a].text\n    strList = strQ.split(\"\\n\")\n    Col_1_Postcodee.append(strList[1])\n    Col_2_Boroughe.append(strList[2])\n    Col_3_Neighbourhood.append(strList[3])\n    ", 
            "cell_type": "code", 
            "metadata": {}, 
            "outputs": [], 
            "execution_count": 4
        }, 
        {
            "source": "df = pd.DataFrame({\"Potcode\": Col_1_Postcodee})\ndf[\"Borough\"]= Col_2_Boroughe\ndf[\"Neighbourhood\"] = Col_3_Neighbourhood", 
            "cell_type": "code", 
            "metadata": {}, 
            "outputs": [], 
            "execution_count": 5
        }, 
        {
            "source": "\nprint (\"the shape of the dataframe before deleting the 'Not assigned' rows is: \")\n\ndf.shape", 
            "cell_type": "code", 
            "metadata": {}, 
            "outputs": [
                {
                    "output_type": "stream", 
                    "name": "stdout", 
                    "text": "the shape of the dataframe before deleting the 'Not assigned' rows is: \n"
                }, 
                {
                    "output_type": "execute_result", 
                    "data": {
                        "text/plain": "(288, 3)"
                    }, 
                    "execution_count": 6, 
                    "metadata": {}
                }
            ], 
            "execution_count": 6
        }, 
        {
            "source": "df.head()", 
            "cell_type": "code", 
            "metadata": {}, 
            "outputs": [
                {
                    "output_type": "execute_result", 
                    "data": {
                        "text/html": "<div>\n<style scoped>\n    .dataframe tbody tr th:only-of-type {\n        vertical-align: middle;\n    }\n\n    .dataframe tbody tr th {\n        vertical-align: top;\n    }\n\n    .dataframe thead th {\n        text-align: right;\n    }\n</style>\n<table border=\"1\" class=\"dataframe\">\n  <thead>\n    <tr style=\"text-align: right;\">\n      <th></th>\n      <th>Potcode</th>\n      <th>Borough</th>\n      <th>Neighbourhood</th>\n    </tr>\n  </thead>\n  <tbody>\n    <tr>\n      <th>0</th>\n      <td>M1A</td>\n      <td>Not assigned</td>\n      <td>Not assigned</td>\n    </tr>\n    <tr>\n      <th>1</th>\n      <td>M2A</td>\n      <td>Not assigned</td>\n      <td>Not assigned</td>\n    </tr>\n    <tr>\n      <th>2</th>\n      <td>M3A</td>\n      <td>North York</td>\n      <td>Parkwoods</td>\n    </tr>\n    <tr>\n      <th>3</th>\n      <td>M4A</td>\n      <td>North York</td>\n      <td>Victoria Village</td>\n    </tr>\n    <tr>\n      <th>4</th>\n      <td>M5A</td>\n      <td>Downtown Toronto</td>\n      <td>Harbourfront</td>\n    </tr>\n  </tbody>\n</table>\n</div>", 
                        "text/plain": "  Potcode           Borough     Neighbourhood\n0     M1A      Not assigned      Not assigned\n1     M2A      Not assigned      Not assigned\n2     M3A        North York         Parkwoods\n3     M4A        North York  Victoria Village\n4     M5A  Downtown Toronto      Harbourfront"
                    }, 
                    "execution_count": 7, 
                    "metadata": {}
                }
            ], 
            "execution_count": 7
        }, 
        {
            "source": "# Deleting 'Not assigned' rows\ndf = df.drop(df.index[df.Borough == \"Not assigned\"])\ndf = df.drop(df.index[df.Neighbourhood == \"Not assigned\"])\n\n\n\nprint (\"the shape of the dataframe after deleting the 'Not assigned' rows is: \")\ndf.shape", 
            "cell_type": "code", 
            "metadata": {}, 
            "outputs": [
                {
                    "output_type": "stream", 
                    "name": "stdout", 
                    "text": "the shape of the dataframe after deleting the 'Not assigned' rows is: \n"
                }, 
                {
                    "output_type": "execute_result", 
                    "data": {
                        "text/plain": "(210, 3)"
                    }, 
                    "execution_count": 8, 
                    "metadata": {}
                }
            ], 
            "execution_count": 8
        }, 
        {
            "source": "df = df.reset_index(drop=True)\ndf.groupby(df.Potcode)\ndf.head()\n", 
            "cell_type": "code", 
            "metadata": {}, 
            "outputs": [
                {
                    "output_type": "execute_result", 
                    "data": {
                        "text/html": "<div>\n<style scoped>\n    .dataframe tbody tr th:only-of-type {\n        vertical-align: middle;\n    }\n\n    .dataframe tbody tr th {\n        vertical-align: top;\n    }\n\n    .dataframe thead th {\n        text-align: right;\n    }\n</style>\n<table border=\"1\" class=\"dataframe\">\n  <thead>\n    <tr style=\"text-align: right;\">\n      <th></th>\n      <th>Potcode</th>\n      <th>Borough</th>\n      <th>Neighbourhood</th>\n    </tr>\n  </thead>\n  <tbody>\n    <tr>\n      <th>0</th>\n      <td>M3A</td>\n      <td>North York</td>\n      <td>Parkwoods</td>\n    </tr>\n    <tr>\n      <th>1</th>\n      <td>M4A</td>\n      <td>North York</td>\n      <td>Victoria Village</td>\n    </tr>\n    <tr>\n      <th>2</th>\n      <td>M5A</td>\n      <td>Downtown Toronto</td>\n      <td>Harbourfront</td>\n    </tr>\n    <tr>\n      <th>3</th>\n      <td>M5A</td>\n      <td>Downtown Toronto</td>\n      <td>Regent Park</td>\n    </tr>\n    <tr>\n      <th>4</th>\n      <td>M6A</td>\n      <td>North York</td>\n      <td>Lawrence Heights</td>\n    </tr>\n  </tbody>\n</table>\n</div>", 
                        "text/plain": "  Potcode           Borough     Neighbourhood\n0     M3A        North York         Parkwoods\n1     M4A        North York  Victoria Village\n2     M5A  Downtown Toronto      Harbourfront\n3     M5A  Downtown Toronto       Regent Park\n4     M6A        North York  Lawrence Heights"
                    }, 
                    "execution_count": 9, 
                    "metadata": {}
                }
            ], 
            "execution_count": 9
        }, 
        {
            "source": "# PART 2", 
            "cell_type": "markdown", 
            "metadata": {}
        }, 
        {
            "source": "!conda install -c conda-forge geocoder \n", 
            "cell_type": "code", 
            "metadata": {}, 
            "outputs": [
                {
                    "output_type": "stream", 
                    "name": "stdout", 
                    "text": "Solving environment: done\n\n## Package Plan ##\n\n  environment location: /opt/conda/envs/DSX-Python35\n\n  added / updated specs: \n    - geocoder\n\n\nThe following packages will be downloaded:\n\n    package                    |            build\n    ---------------------------|-----------------\n    ca-certificates-2019.6.16  |       hecc5488_0         145 KB  conda-forge\n    geocoder-1.38.1            |             py_1          53 KB  conda-forge\n    ratelim-0.1.6              |             py_2           6 KB  conda-forge\n    certifi-2018.8.24          |        py35_1001         139 KB  conda-forge\n    openssl-1.0.2r             |       h14c3975_0         3.1 MB  conda-forge\n    ------------------------------------------------------------\n                                           Total:         3.5 MB\n\nThe following NEW packages will be INSTALLED:\n\n    geocoder:        1.38.1-py_1       conda-forge\n    ratelim:         0.1.6-py_2        conda-forge\n\nThe following packages will be UPDATED:\n\n    ca-certificates: 2019.1.23-0                   --> 2019.6.16-hecc5488_0 conda-forge\n    certifi:         2018.8.24-py35_1              --> 2018.8.24-py35_1001  conda-forge\n\nThe following packages will be DOWNGRADED:\n\n    openssl:         1.0.2s-h7b6447c_0             --> 1.0.2r-h14c3975_0    conda-forge\n\n\nDownloading and Extracting Packages\nca-certificates-2019 | 145 KB    | ##################################### | 100% \ngeocoder-1.38.1      | 53 KB     | ##################################### | 100% \nratelim-0.1.6        | 6 KB      | ##################################### | 100% \ncertifi-2018.8.24    | 139 KB    | ##################################### | 100% \nopenssl-1.0.2r       | 3.1 MB    | ##################################### | 100% \nPreparing transaction: done\nVerifying transaction: done\nExecuting transaction: done\n"
                }
            ], 
            "execution_count": 91
        }, 
        {
            "source": "!wget -O geo.csv https://cocl.us/Geospatial_data", 
            "cell_type": "code", 
            "metadata": {
                "scrolled": true
            }, 
            "outputs": [
                {
                    "output_type": "stream", 
                    "name": "stdout", 
                    "text": "--2019-07-03 12:07:54--  https://cocl.us/Geospatial_data\nResolving cocl.us (cocl.us)... 169.48.113.201\nConnecting to cocl.us (cocl.us)|169.48.113.201|:443... connected.\nHTTP request sent, awaiting response... 301 Moved Permanently\nLocation: https://ibm.box.com/shared/static/9afzr83pps4pwf2smjjcf1y5mvgb18rr.csv [following]\n--2019-07-03 12:07:55--  https://ibm.box.com/shared/static/9afzr83pps4pwf2smjjcf1y5mvgb18rr.csv\nResolving ibm.box.com (ibm.box.com)... 185.235.236.197\nConnecting to ibm.box.com (ibm.box.com)|185.235.236.197|:443... connected.\nHTTP request sent, awaiting response... 301 Moved Permanently\nLocation: /public/static/9afzr83pps4pwf2smjjcf1y5mvgb18rr.csv [following]\n--2019-07-03 12:07:55--  https://ibm.box.com/public/static/9afzr83pps4pwf2smjjcf1y5mvgb18rr.csv\nReusing existing connection to ibm.box.com:443.\nHTTP request sent, awaiting response... 301 Moved Permanently\nLocation: https://ibm.ent.box.com/public/static/9afzr83pps4pwf2smjjcf1y5mvgb18rr.csv [following]\n--2019-07-03 12:07:55--  https://ibm.ent.box.com/public/static/9afzr83pps4pwf2smjjcf1y5mvgb18rr.csv\nResolving ibm.ent.box.com (ibm.ent.box.com)... 185.235.236.211\nConnecting to ibm.ent.box.com (ibm.ent.box.com)|185.235.236.211|:443... connected.\nHTTP request sent, awaiting response... 302 Found\nLocation: https://public.boxcloud.com/d/1/b1!Q2vAFhV_G7PrBd3g08XolOQ1DlQCHP0cCguG-W1w4j-sLBMq34Gg5ktap9t2KszWJrkxqMMazDcB3qPtCuAwDWWUiDckEVOwmVmBnTLS0pR5uSuv8nld7XmtXfWfJ1aTl5-947mfaZC_M79c6QMnVFS_EPrLIOeipA8TTXyBN9yrOUNAWhdBdrrPnunr4zoNY2Wp0sK61-8XRR4TpmGvjzZ3bFjRMv25hwNWpN_ntArce9t8MFGW4fOsu7pLBNRn6GKXMY9MfwwPDtUEzteYQL9OrPBFuzfJOVxvg_Q_SU8WzORPVnNn_6SP0WsCgZrkUM1PbhzDEVUVwZwymYgDbOlAAmt6soMxPoeMizn8YHjVBkC-HgqP2hv1Z6aKSvzHr6zgLZm06blFcWY8ZOJm1HI2EfusIAhuivnqlTpPkS-9L9PXRdAfgqYJZVuI_2-OgXY7gZjO7qBNs5XVux8GOKOHuYnbVB-_CJS1nflVQ5TWSiC1VAFCT2VtYOd5B55Ohf4NNfV6jzIgRUEuzknQFmdmwaOTz0uLpQolXNvCZqMl4zyHkcckXtXuypGUlYpaOG-eXRV9HBUeWgqWqmqcWbD-WUx-QBkcrtyv53DqLg_C0VtW433uJJPuByyPF4Gm53bRN0U82Zr9GMAV12rg9jd_cn7cfDmpCVwNN8i5tSHmvQ0IdFNDqfNinhhjAMkf8TfUZYMnWox1BxfXeAF-GqssWf8gUS_5mNW-6W70O6kRg54RG69q79lpm7Y3Jkchsx8oB-_C26nDRdf2S2fYdua91d8PizLJha1IFfCjqCPgnAbg7Y4EtwLmMrwMIUhtL8B5pr3aeJv2bQKEaDLxKfJ-e0VGKLv8pig9qFf-lYhfa4b0515_jHzQBt3PBxAOOhPqYnmQWq4RTCHdJhTJVNxUbNunLZrKt9zrwT_txe8B5AZUmZWnjOWEvZCZG-zOWLCzIl3mJNpXfzF4KqKh225ZHqf7HuUxRQOdNAfra9XBc1Z5M92SmNxETKkG2dpodHnM-80v8ja6zfmA_ipt2MxZhLqw8Uf6mwYuD6soH8gweigfQHwiT1pbGw-a0Cu_h-kRKRUBQXCK-npmVTBGIAus3_yL7XldNanawhYwy4LN_gVfVrpSAnRy1Clfj4mUn0o-pE5u0voZzXbQPsNqgIuLTvbylFTTj6CtTswaLYCtQQoko_W0bgB7SEfvb7E71EYEv0OEm0OoBIHAv4xOy93hexXdPo0lgJsggiHgoXPvR7StaTOYFDaBp8_aiYnv5UiJrctN6o5opL-zBSHsDBO7dYP2_t8JAQPtooc2Tt6TS_XysEd4z6s4K9ZeJ2l_jd2hzOlEXxHAM4bdeIIYsDnvsYXxQGt0xClVh2xxQEWEOCO1CWCZWmqT8A../download [following]\n--2019-07-03 12:07:56--  https://public.boxcloud.com/d/1/b1!Q2vAFhV_G7PrBd3g08XolOQ1DlQCHP0cCguG-W1w4j-sLBMq34Gg5ktap9t2KszWJrkxqMMazDcB3qPtCuAwDWWUiDckEVOwmVmBnTLS0pR5uSuv8nld7XmtXfWfJ1aTl5-947mfaZC_M79c6QMnVFS_EPrLIOeipA8TTXyBN9yrOUNAWhdBdrrPnunr4zoNY2Wp0sK61-8XRR4TpmGvjzZ3bFjRMv25hwNWpN_ntArce9t8MFGW4fOsu7pLBNRn6GKXMY9MfwwPDtUEzteYQL9OrPBFuzfJOVxvg_Q_SU8WzORPVnNn_6SP0WsCgZrkUM1PbhzDEVUVwZwymYgDbOlAAmt6soMxPoeMizn8YHjVBkC-HgqP2hv1Z6aKSvzHr6zgLZm06blFcWY8ZOJm1HI2EfusIAhuivnqlTpPkS-9L9PXRdAfgqYJZVuI_2-OgXY7gZjO7qBNs5XVux8GOKOHuYnbVB-_CJS1nflVQ5TWSiC1VAFCT2VtYOd5B55Ohf4NNfV6jzIgRUEuzknQFmdmwaOTz0uLpQolXNvCZqMl4zyHkcckXtXuypGUlYpaOG-eXRV9HBUeWgqWqmqcWbD-WUx-QBkcrtyv53DqLg_C0VtW433uJJPuByyPF4Gm53bRN0U82Zr9GMAV12rg9jd_cn7cfDmpCVwNN8i5tSHmvQ0IdFNDqfNinhhjAMkf8TfUZYMnWox1BxfXeAF-GqssWf8gUS_5mNW-6W70O6kRg54RG69q79lpm7Y3Jkchsx8oB-_C26nDRdf2S2fYdua91d8PizLJha1IFfCjqCPgnAbg7Y4EtwLmMrwMIUhtL8B5pr3aeJv2bQKEaDLxKfJ-e0VGKLv8pig9qFf-lYhfa4b0515_jHzQBt3PBxAOOhPqYnmQWq4RTCHdJhTJVNxUbNunLZrKt9zrwT_txe8B5AZUmZWnjOWEvZCZG-zOWLCzIl3mJNpXfzF4KqKh225ZHqf7HuUxRQOdNAfra9XBc1Z5M92SmNxETKkG2dpodHnM-80v8ja6zfmA_ipt2MxZhLqw8Uf6mwYuD6soH8gweigfQHwiT1pbGw-a0Cu_h-kRKRUBQXCK-npmVTBGIAus3_yL7XldNanawhYwy4LN_gVfVrpSAnRy1Clfj4mUn0o-pE5u0voZzXbQPsNqgIuLTvbylFTTj6CtTswaLYCtQQoko_W0bgB7SEfvb7E71EYEv0OEm0OoBIHAv4xOy93hexXdPo0lgJsggiHgoXPvR7StaTOYFDaBp8_aiYnv5UiJrctN6o5opL-zBSHsDBO7dYP2_t8JAQPtooc2Tt6TS_XysEd4z6s4K9ZeJ2l_jd2hzOlEXxHAM4bdeIIYsDnvsYXxQGt0xClVh2xxQEWEOCO1CWCZWmqT8A../download\nResolving public.boxcloud.com (public.boxcloud.com)... 107.152.27.200\nConnecting to public.boxcloud.com (public.boxcloud.com)|107.152.27.200|:443... connected.\nHTTP request sent, awaiting response... 200 OK\nLength: 2891 (2.8K) [text/csv]\nSaving to: \u2018geo.csv\u2019\n\n100%[======================================>] 2,891       --.-K/s   in 0s      \n\n2019-07-03 12:07:56 (429 MB/s) - \u2018geo.csv\u2019 saved [2891/2891]\n\n"
                }
            ], 
            "execution_count": 11
        }, 
        {
            "source": "df_post = pd.read_csv(\"geo.csv\")\ndf_post.head()", 
            "cell_type": "code", 
            "metadata": {}, 
            "outputs": [
                {
                    "output_type": "execute_result", 
                    "data": {
                        "text/html": "<div>\n<style scoped>\n    .dataframe tbody tr th:only-of-type {\n        vertical-align: middle;\n    }\n\n    .dataframe tbody tr th {\n        vertical-align: top;\n    }\n\n    .dataframe thead th {\n        text-align: right;\n    }\n</style>\n<table border=\"1\" class=\"dataframe\">\n  <thead>\n    <tr style=\"text-align: right;\">\n      <th></th>\n      <th>Postal Code</th>\n      <th>Latitude</th>\n      <th>Longitude</th>\n    </tr>\n  </thead>\n  <tbody>\n    <tr>\n      <th>0</th>\n      <td>M1B</td>\n      <td>43.806686</td>\n      <td>-79.194353</td>\n    </tr>\n    <tr>\n      <th>1</th>\n      <td>M1C</td>\n      <td>43.784535</td>\n      <td>-79.160497</td>\n    </tr>\n    <tr>\n      <th>2</th>\n      <td>M1E</td>\n      <td>43.763573</td>\n      <td>-79.188711</td>\n    </tr>\n    <tr>\n      <th>3</th>\n      <td>M1G</td>\n      <td>43.770992</td>\n      <td>-79.216917</td>\n    </tr>\n    <tr>\n      <th>4</th>\n      <td>M1H</td>\n      <td>43.773136</td>\n      <td>-79.239476</td>\n    </tr>\n  </tbody>\n</table>\n</div>", 
                        "text/plain": "  Postal Code   Latitude  Longitude\n0         M1B  43.806686 -79.194353\n1         M1C  43.784535 -79.160497\n2         M1E  43.763573 -79.188711\n3         M1G  43.770992 -79.216917\n4         M1H  43.773136 -79.239476"
                    }, 
                    "execution_count": 12, 
                    "metadata": {}
                }
            ], 
            "execution_count": 12
        }, 
        {
            "source": "len(df_post['Postal Code'])", 
            "cell_type": "code", 
            "metadata": {}, 
            "outputs": [
                {
                    "output_type": "execute_result", 
                    "data": {
                        "text/plain": "103"
                    }, 
                    "execution_count": 15, 
                    "metadata": {}
                }
            ], 
            "execution_count": 15
        }, 
        {
            "source": "df_with_geo = pd.merge(df, df_post, left_on=\"Potcode\", right_on= \"Postal Code\", how =\"left\")\n", 
            "cell_type": "code", 
            "metadata": {}, 
            "outputs": [], 
            "execution_count": 32
        }, 
        {
            "source": "df_with_geo.drop(columns =[\"Postal Code\"])\n\nprint (\"Done.\")", 
            "cell_type": "code", 
            "metadata": {}, 
            "outputs": [
                {
                    "output_type": "stream", 
                    "name": "stdout", 
                    "text": "Done.\n"
                }
            ], 
            "execution_count": 34
        }, 
        {
            "source": "df_with_geo.head()", 
            "cell_type": "code", 
            "metadata": {}, 
            "outputs": [
                {
                    "output_type": "execute_result", 
                    "data": {
                        "text/html": "<div>\n<style scoped>\n    .dataframe tbody tr th:only-of-type {\n        vertical-align: middle;\n    }\n\n    .dataframe tbody tr th {\n        vertical-align: top;\n    }\n\n    .dataframe thead th {\n        text-align: right;\n    }\n</style>\n<table border=\"1\" class=\"dataframe\">\n  <thead>\n    <tr style=\"text-align: right;\">\n      <th></th>\n      <th>Potcode</th>\n      <th>Borough</th>\n      <th>Neighbourhood</th>\n      <th>Postal Code</th>\n      <th>Latitude</th>\n      <th>Longitude</th>\n    </tr>\n  </thead>\n  <tbody>\n    <tr>\n      <th>0</th>\n      <td>M3A</td>\n      <td>North York</td>\n      <td>Parkwoods</td>\n      <td>M3A</td>\n      <td>43.753259</td>\n      <td>-79.329656</td>\n    </tr>\n    <tr>\n      <th>1</th>\n      <td>M4A</td>\n      <td>North York</td>\n      <td>Victoria Village</td>\n      <td>M4A</td>\n      <td>43.725882</td>\n      <td>-79.315572</td>\n    </tr>\n    <tr>\n      <th>2</th>\n      <td>M5A</td>\n      <td>Downtown Toronto</td>\n      <td>Harbourfront</td>\n      <td>M5A</td>\n      <td>43.654260</td>\n      <td>-79.360636</td>\n    </tr>\n    <tr>\n      <th>3</th>\n      <td>M5A</td>\n      <td>Downtown Toronto</td>\n      <td>Regent Park</td>\n      <td>M5A</td>\n      <td>43.654260</td>\n      <td>-79.360636</td>\n    </tr>\n    <tr>\n      <th>4</th>\n      <td>M6A</td>\n      <td>North York</td>\n      <td>Lawrence Heights</td>\n      <td>M6A</td>\n      <td>43.718518</td>\n      <td>-79.464763</td>\n    </tr>\n  </tbody>\n</table>\n</div>", 
                        "text/plain": "  Potcode           Borough     Neighbourhood Postal Code   Latitude  \\\n0     M3A        North York         Parkwoods         M3A  43.753259   \n1     M4A        North York  Victoria Village         M4A  43.725882   \n2     M5A  Downtown Toronto      Harbourfront         M5A  43.654260   \n3     M5A  Downtown Toronto       Regent Park         M5A  43.654260   \n4     M6A        North York  Lawrence Heights         M6A  43.718518   \n\n   Longitude  \n0 -79.329656  \n1 -79.315572  \n2 -79.360636  \n3 -79.360636  \n4 -79.464763  "
                    }, 
                    "execution_count": 35, 
                    "metadata": {}
                }
            ], 
            "execution_count": 35
        }, 
        {
            "source": "# PART 3", 
            "cell_type": "markdown", 
            "metadata": {}
        }, 
        {
            "source": "### Presenting only boroughs that contain the word Toronto", 
            "cell_type": "markdown", 
            "metadata": {}
        }, 
        {
            "source": "df_boroughs_Toronto = df_with_geo[df_with_geo['Borough'].str.contains(\"Toronto\")]", 
            "cell_type": "code", 
            "metadata": {}, 
            "outputs": [], 
            "execution_count": 41
        }, 
        {
            "source": "df_boroughs_Toronto.head()", 
            "cell_type": "code", 
            "metadata": {}, 
            "outputs": [
                {
                    "output_type": "execute_result", 
                    "data": {
                        "text/html": "<div>\n<style scoped>\n    .dataframe tbody tr th:only-of-type {\n        vertical-align: middle;\n    }\n\n    .dataframe tbody tr th {\n        vertical-align: top;\n    }\n\n    .dataframe thead th {\n        text-align: right;\n    }\n</style>\n<table border=\"1\" class=\"dataframe\">\n  <thead>\n    <tr style=\"text-align: right;\">\n      <th></th>\n      <th>Potcode</th>\n      <th>Borough</th>\n      <th>Neighbourhood</th>\n      <th>Postal Code</th>\n      <th>Latitude</th>\n      <th>Longitude</th>\n    </tr>\n  </thead>\n  <tbody>\n    <tr>\n      <th>2</th>\n      <td>M5A</td>\n      <td>Downtown Toronto</td>\n      <td>Harbourfront</td>\n      <td>M5A</td>\n      <td>43.654260</td>\n      <td>-79.360636</td>\n    </tr>\n    <tr>\n      <th>3</th>\n      <td>M5A</td>\n      <td>Downtown Toronto</td>\n      <td>Regent Park</td>\n      <td>M5A</td>\n      <td>43.654260</td>\n      <td>-79.360636</td>\n    </tr>\n    <tr>\n      <th>12</th>\n      <td>M5B</td>\n      <td>Downtown Toronto</td>\n      <td>Ryerson</td>\n      <td>M5B</td>\n      <td>43.657162</td>\n      <td>-79.378937</td>\n    </tr>\n    <tr>\n      <th>13</th>\n      <td>M5B</td>\n      <td>Downtown Toronto</td>\n      <td>Garden District</td>\n      <td>M5B</td>\n      <td>43.657162</td>\n      <td>-79.378937</td>\n    </tr>\n    <tr>\n      <th>26</th>\n      <td>M5C</td>\n      <td>Downtown Toronto</td>\n      <td>St. James Town</td>\n      <td>M5C</td>\n      <td>43.651494</td>\n      <td>-79.375418</td>\n    </tr>\n  </tbody>\n</table>\n</div>", 
                        "text/plain": "   Potcode           Borough    Neighbourhood Postal Code   Latitude  \\\n2      M5A  Downtown Toronto     Harbourfront         M5A  43.654260   \n3      M5A  Downtown Toronto      Regent Park         M5A  43.654260   \n12     M5B  Downtown Toronto          Ryerson         M5B  43.657162   \n13     M5B  Downtown Toronto  Garden District         M5B  43.657162   \n26     M5C  Downtown Toronto   St. James Town         M5C  43.651494   \n\n    Longitude  \n2  -79.360636  \n3  -79.360636  \n12 -79.378937  \n13 -79.378937  \n26 -79.375418  "
                    }, 
                    "execution_count": 42, 
                    "metadata": {}
                }
            ], 
            "execution_count": 42
        }, 
        {
            "source": "", 
            "cell_type": "code", 
            "metadata": {}, 
            "outputs": [], 
            "execution_count": null
        }
    ], 
    "metadata": {
        "kernelspec": {
            "display_name": "Python 3.5", 
            "name": "python3", 
            "language": "python"
        }, 
        "language_info": {
            "mimetype": "text/x-python", 
            "nbconvert_exporter": "python", 
            "version": "3.5.5", 
            "name": "python", 
            "pygments_lexer": "ipython3", 
            "file_extension": ".py", 
            "codemirror_mode": {
                "version": 3, 
                "name": "ipython"
            }
        }
    }, 
    "nbformat": 4
}